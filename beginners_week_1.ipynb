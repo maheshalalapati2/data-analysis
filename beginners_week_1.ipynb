{
  "nbformat": 4,
  "nbformat_minor": 0,
  "metadata": {
    "colab": {
      "name": "beginners.ipynb",
      "provenance": [],
      "authorship_tag": "ABX9TyMp5+uyQGcII69a6nlxBYz5",
      "include_colab_link": true
    },
    "kernelspec": {
      "name": "python3",
      "display_name": "Python 3"
    },
    "language_info": {
      "name": "python"
    }
  },
  "cells": [
    {
      "cell_type": "markdown",
      "metadata": {
        "id": "view-in-github",
        "colab_type": "text"
      },
      "source": [
        "<a href=\"https://colab.research.google.com/github/maheshalalapati2/python-data-analysis/blob/master/beginners_week_1.ipynb\" target=\"_parent\"><img src=\"https://colab.research.google.com/assets/colab-badge.svg\" alt=\"Open In Colab\"/></a>"
      ]
    },
    {
      "cell_type": "markdown",
      "source": [
        "Data type conversion - str with date format"
      ],
      "metadata": {
        "id": "d8MIhxky5M7Z"
      }
    },
    {
      "cell_type": "code",
      "execution_count": null,
      "metadata": {
        "colab": {
          "base_uri": "https://localhost:8080/"
        },
        "id": "pzynwgs44aR5",
        "outputId": "4860e84b-42a8-4937-b914-4368168419c3"
      },
      "outputs": [
        {
          "output_type": "stream",
          "name": "stdout",
          "text": [
            "Today date is:2022-02-04\n"
          ]
        }
      ],
      "source": [
        "from datetime import date\n",
        "print('Today date is:' + str(date.today()))"
      ]
    },
    {
      "cell_type": "code",
      "source": [
        "print('welcome the gretter program')\n",
        "name = input('enter your name ')\n",
        "print('Greeting:' + name)"
      ],
      "metadata": {
        "colab": {
          "base_uri": "https://localhost:8080/"
        },
        "id": "3I5Lk-bmeJah",
        "outputId": "ba9dbd43-b3ad-4ce2-8828-79c887ea6bdb"
      },
      "execution_count": null,
      "outputs": [
        {
          "output_type": "stream",
          "name": "stdout",
          "text": [
            "welcome the gretter program\n",
            "enter your name Mahesh Alapati\n",
            "Greeting:Mahesh Alapati\n"
          ]
        }
      ]
    },
    {
      "cell_type": "code",
      "source": [
        "\n",
        "parsec_input = input('Enter the parsec value')\n",
        "parsec = int(parsec_input)\n",
        "lightyears = 3.26156 * parsec\n",
        "\n",
        "print(str(parsec) + \" parsec, is \" + str(lightyears) + \" lightyears\")"
      ],
      "metadata": {
        "colab": {
          "base_uri": "https://localhost:8080/"
        },
        "id": "1uldNXxehtQ5",
        "outputId": "f4913ef0-c321-4408-ef5c-53d51436c35b"
      },
      "execution_count": null,
      "outputs": [
        {
          "output_type": "stream",
          "name": "stdout",
          "text": [
            "Enter the parsec value11\n",
            "11 parsec, is 35.877159999999996 lightyears\n"
          ]
        }
      ]
    },
    {
      "cell_type": "code",
      "source": [
        "from datetime import *\n",
        "from dateutil.relativedelta import *\n",
        "now = datetime.now()\n",
        "print(now)\n",
        "\n",
        "now = now + relativedelta(months=1, weeks=1, hour=10)\n",
        "\n",
        "print(now)"
      ],
      "metadata": {
        "colab": {
          "base_uri": "https://localhost:8080/"
        },
        "id": "XF-f9kA2FtYt",
        "outputId": "40fcdd5b-f17a-4324-94b4-1e99cba2214f"
      },
      "execution_count": null,
      "outputs": [
        {
          "output_type": "stream",
          "name": "stdout",
          "text": [
            "2022-02-06 12:51:43.329422\n",
            "2022-03-13 10:51:43.329422\n"
          ]
        }
      ]
    },
    {
      "cell_type": "markdown",
      "source": [
        "In Python, None and 0 are also interpreted as False."
      ],
      "metadata": {
        "id": "a9qURd0LJnVo"
      }
    },
    {
      "cell_type": "code",
      "source": [
        "a = 2\n",
        "b = 2\n",
        "if a < b:\n",
        "  print('a is less than b')\n",
        "print(b)"
      ],
      "metadata": {
        "colab": {
          "base_uri": "https://localhost:8080/"
        },
        "id": "owJAROrQJQei",
        "outputId": "932732a4-9ca6-45df-dfb4-d5dad2606843"
      },
      "execution_count": null,
      "outputs": [
        {
          "output_type": "stream",
          "name": "stdout",
          "text": [
            "2\n"
          ]
        }
      ]
    },
    {
      "cell_type": "markdown",
      "source": [
        "Use strings in Python"
      ],
      "metadata": {
        "id": "N39i7eFdbDDt"
      }
    },
    {
      "cell_type": "code",
      "source": [
        "fact = \"Mahesh\"\n",
        "fact +  \" Alapati\"\n"
      ],
      "metadata": {
        "colab": {
          "base_uri": "https://localhost:8080/",
          "height": 35
        },
        "id": "2FB4kDR5bSJN",
        "outputId": "e4bdff1f-f57b-47c7-bfa4-e76df8858b20"
      },
      "execution_count": null,
      "outputs": [
        {
          "output_type": "execute_result",
          "data": {
            "application/vnd.google.colaboratory.intrinsic+json": {
              "type": "string"
            },
            "text/plain": [
              "'Mahesh Alapati'"
            ]
          },
          "metadata": {},
          "execution_count": 6
        }
      ]
    },
    {
      "cell_type": "markdown",
      "source": [
        "Immutability of strings"
      ],
      "metadata": {
        "id": "7YcFtdK8btmc"
      }
    },
    {
      "cell_type": "markdown",
      "source": [
        "When you add strings, Python doesn't modify any string, but it returns a new string as the result. To keep this new result, assign it to a new variable:"
      ],
      "metadata": {
        "id": "abOnmrfjb5ti"
      }
    },
    {
      "cell_type": "code",
      "source": [
        "multiline = \"Mahesh Alapati:\\n This my first and last name\"\n",
        "print(multiline)"
      ],
      "metadata": {
        "colab": {
          "base_uri": "https://localhost:8080/"
        },
        "id": "vjjrVvLQb_AK",
        "outputId": "051ef1a9-0dff-4d03-c719-929d0303e4cb"
      },
      "execution_count": null,
      "outputs": [
        {
          "output_type": "stream",
          "name": "stdout",
          "text": [
            "Mahesh Alapati:\n",
            " This my first and last name\n"
          ]
        }
      ]
    },
    {
      "cell_type": "code",
      "source": [
        "multiline_2 = \"\"\"Mahesh Alapati: ...  This is my first. ...  and last name.\"\"\"\n",
        "print(multiline_2)"
      ],
      "metadata": {
        "colab": {
          "base_uri": "https://localhost:8080/"
        },
        "id": "IZHBgRqdc6ej",
        "outputId": "f963f6d5-87a1-4913-e193-0745eace9650"
      },
      "execution_count": null,
      "outputs": [
        {
          "output_type": "stream",
          "name": "stdout",
          "text": [
            "Mahesh Alapati: ...  This is my first. ...  and last name.\n"
          ]
        }
      ]
    },
    {
      "cell_type": "code",
      "source": [
        "name = \"mahesh alapati\"\n",
        "name.title()"
      ],
      "metadata": {
        "colab": {
          "base_uri": "https://localhost:8080/",
          "height": 35
        },
        "id": "MKy3V7yldZeV",
        "outputId": "30ec43a9-879c-4b81-8614-c88f378a9f9a"
      },
      "execution_count": null,
      "outputs": [
        {
          "output_type": "execute_result",
          "data": {
            "application/vnd.google.colaboratory.intrinsic+json": {
              "type": "string"
            },
            "text/plain": [
              "'Mahesh Alapati'"
            ]
          },
          "metadata": {},
          "execution_count": 19
        }
      ]
    },
    {
      "cell_type": "markdown",
      "source": [
        "A common string method is .split(). Without arguments, the method will separate the string at every space. This would create a list of every word or number that's separated by a space:"
      ],
      "metadata": {
        "id": "piqJeZ97lama"
      }
    },
    {
      "cell_type": "code",
      "source": [
        "details = \"\"\"mahesh naga sai alapati\"\"\"\n",
        "details.split()"
      ],
      "metadata": {
        "colab": {
          "base_uri": "https://localhost:8080/"
        },
        "id": "0IWjBFh7lbwV",
        "outputId": "e87a7635-a138-4f98-eed1-32690dd3ef8b"
      },
      "execution_count": null,
      "outputs": [
        {
          "output_type": "execute_result",
          "data": {
            "text/plain": [
              "['mahesh', 'naga', 'sai', 'alapati']"
            ]
          },
          "metadata": {},
          "execution_count": 21
        }
      ]
    },
    {
      "cell_type": "code",
      "source": [
        "a = 300\n",
        "b = 300\n",
        "a is b"
      ],
      "metadata": {
        "id": "LzAg0kZyA-y0",
        "outputId": "ca9313cf-fdf1-4e35-8bff-cbc8c4f84255",
        "colab": {
          "base_uri": "https://localhost:8080/"
        }
      },
      "execution_count": null,
      "outputs": [
        {
          "output_type": "execute_result",
          "data": {
            "text/plain": [
              "False"
            ]
          },
          "metadata": {},
          "execution_count": 1
        }
      ]
    },
    {
      "cell_type": "markdown",
      "source": [
        "Introducing Lists"
      ],
      "metadata": {
        "id": "pLwibA9MDJ8v"
      }
    },
    {
      "cell_type": "code",
      "source": [
        "planets = [\"Mercury\", \"Venus\", \"Earth\", \"Mars\", \"Jupiter\", \"Saturn\", \"Uranus\", \"Neptune\"]\n",
        "print(planets)\n",
        "print(len(planets))\n",
        "\n",
        "planets.append(\"Pluto\")\n",
        "print(planets)\n",
        "print(len(planets))\n",
        "\n",
        "\n"
      ],
      "metadata": {
        "colab": {
          "base_uri": "https://localhost:8080/"
        },
        "id": "r3QPUrRtDP0c",
        "outputId": "8d2afdf4-7dd1-4163-c8d5-a1c95de58ec1"
      },
      "execution_count": null,
      "outputs": [
        {
          "output_type": "stream",
          "name": "stdout",
          "text": [
            "['Mercury', 'Venus', 'Earth', 'Mars', 'Jupiter', 'Saturn', 'Uranus', 'Neptune']\n",
            "8\n",
            "['Mercury', 'Venus', 'Earth', 'Mars', 'Jupiter', 'Saturn', 'Uranus', 'Neptune', 'Pluto']\n",
            "9\n"
          ]
        }
      ]
    },
    {
      "cell_type": "code",
      "source": [
        "l = [1,2,3,4,5,6]\n",
        "for index, item in enumerate(l):\n",
        "  l.pop(index)\n",
        "  print(l)\n",
        "print(l)"
      ],
      "metadata": {
        "colab": {
          "base_uri": "https://localhost:8080/"
        },
        "id": "mY_rHh1ydGNe",
        "outputId": "a77ad027-d974-4725-8134-8bcf3a11c674"
      },
      "execution_count": null,
      "outputs": [
        {
          "output_type": "stream",
          "name": "stdout",
          "text": [
            "[2, 3, 4, 5, 6]\n",
            "[2, 4, 5, 6]\n",
            "[2, 4, 6]\n",
            "[2, 4, 6]\n"
          ]
        }
      ]
    },
    {
      "cell_type": "markdown",
      "source": [
        "\n",
        "Python dictionaries allow to model complex data. Like average rainfall for different months in different cities, storing those as individual values isn't a viable option. This is where Python dictionaries can help.\n",
        "\n",
        "\n"
      ],
      "metadata": {
        "id": "ir4--KJpUsX6"
      }
    },
    {
      "cell_type": "markdown",
      "source": [
        "Python dictionaries allow you to work with related sets of data. A dictionary is a collection of key/value pairs. Think of it like a group of variables inside of a container, where the key is the name of the variable, and the value is the value stored inside it.\n",
        "\n"
      ],
      "metadata": {
        "id": "QnW1a5MdVLWu"
      }
    },
    {
      "cell_type": "code",
      "source": [
        "planet = {'name':'Earth','moons':1}"
      ],
      "metadata": {
        "id": "T8rV4qKzVdUd"
      },
      "execution_count": null,
      "outputs": []
    },
    {
      "cell_type": "markdown",
      "source": [
        "planet.get('name') and planet['name']\n",
        "\n",
        "\n",
        "Although the behavior of **get **and the **square brackets ([ ]) **is generally the same for retrieving items, there is one key difference. If a key isn't available, get returns None, and [ ] raises a KeyError.\n",
        "\n",
        "wibble = planet.get('wibble') # Returns None\n",
        "\n",
        "\n",
        "wibble = planet['wibble'] # Throws KeyError\n"
      ],
      "metadata": {
        "id": "c4XIxjvBaiSV"
      }
    },
    {
      "cell_type": "code",
      "source": [
        "cars = {'brand':'ford','model': 'mustang','year': 2019 }"
      ],
      "metadata": {
        "id": "0X52WpV-a2fi"
      },
      "execution_count": null,
      "outputs": []
    },
    {
      "cell_type": "code",
      "source": [
        "cars['avg miles'] = 15\n",
        "\n",
        "print(cars)"
      ],
      "metadata": {
        "colab": {
          "base_uri": "https://localhost:8080/"
        },
        "id": "EXkdZgmxPg-5",
        "outputId": "27a5133b-e30e-45ed-aebc-8f2cc68ef693"
      },
      "execution_count": null,
      "outputs": [
        {
          "output_type": "stream",
          "name": "stdout",
          "text": [
            "{'brand': 'ford', 'model': 'mustang', 'year': 2019, 'avg miles': 15}\n"
          ]
        }
      ]
    },
    {
      "cell_type": "code",
      "source": [
        "planet = {'name': 'Earth', 'Moon': 1}\n",
        "\n",
        "\n",
        "planet.update({'name':'jupiter','Moon':2})\n",
        "print(planet)\n",
        "\n",
        "planet['orbital period'] = 799\n",
        "\n",
        "print(planet)\n",
        "\n",
        "planet.pop('name')\n",
        "print(planet)\n",
        "\n",
        "planet = {'name': 'Earth', 'Moon': 1}\n",
        "print(planet)\n",
        "\n",
        "#dictionary in a dictionary\n",
        "\n",
        "planet['diameter'] = {'polar': 4566,'equatorial': 6777}\n",
        "print(planet['diameter'])\n",
        "\n",
        "\n"
      ],
      "metadata": {
        "colab": {
          "base_uri": "https://localhost:8080/"
        },
        "id": "wAmVramNRK4e",
        "outputId": "b7f60c86-9c61-43e5-8b5e-5f1b47f0728e"
      },
      "execution_count": null,
      "outputs": [
        {
          "output_type": "stream",
          "name": "stdout",
          "text": [
            "{'name': 'jupiter', 'Moon': 2}\n",
            "{'name': 'jupiter', 'Moon': 2, 'orbital period': 799}\n",
            "{'Moon': 2, 'orbital period': 799}\n",
            "{'name': 'Earth', 'Moon': 1}\n",
            "{'polar': 4566, 'equatorial': 6777}\n"
          ]
        }
      ]
    },
    {
      "cell_type": "code",
      "source": [
        "rainfall = {'october': 3.5, 'september': 4.2, 'november': 2.1}\n",
        "print(rainfall)\n",
        "\n",
        "for key in rainfall.keys():\n",
        "  print(f'{key}: {rainfall[key]}cm')"
      ],
      "metadata": {
        "colab": {
          "base_uri": "https://localhost:8080/"
        },
        "id": "F74SJr8Wc4Kj",
        "outputId": "7d84797c-8a8a-4478-95a4-36e45218b1a6"
      },
      "execution_count": null,
      "outputs": [
        {
          "output_type": "stream",
          "name": "stdout",
          "text": [
            "{'october': 3.5, 'september': 4.2, 'november': 2.1}\n",
            "october: 3.5cm\n",
            "september: 4.2cm\n",
            "november: 2.1cm\n"
          ]
        }
      ]
    },
    {
      "cell_type": "code",
      "source": [
        "import numpy as np\n",
        "import pandas as pd\n",
        "import matplotlib.pyplot as plt"
      ],
      "metadata": {
        "id": "HoJE6STS3AFr"
      },
      "execution_count": null,
      "outputs": []
    },
    {
      "cell_type": "code",
      "source": [
        "n= 200\n",
        "\n",
        "x = np.random.uniform(-1,1,n)\n",
        "\n",
        "y = np.power(x,2)\n",
        "\n",
        "plt.scatter(x,y)"
      ],
      "metadata": {
        "colab": {
          "base_uri": "https://localhost:8080/",
          "height": 283
        },
        "id": "FR4Ygdyn3J1X",
        "outputId": "bf5b7dab-a586-4918-edb3-2e94d818cf33"
      },
      "execution_count": null,
      "outputs": [
        {
          "output_type": "execute_result",
          "data": {
            "text/plain": [
              "<matplotlib.collections.PathCollection at 0x7fb0a3544990>"
            ]
          },
          "metadata": {},
          "execution_count": 4
        },
        {
          "output_type": "display_data",
          "data": {
            "text/plain": [
              "<Figure size 432x288 with 1 Axes>"
            ],
            "image/png": "[encoded data removed]"
          },
          "metadata": {
            "needs_background": "light"
          }
        }
      ]
    },
    {
      "cell_type": "code",
      "source": [
        "df = pd.DataFrame({\"X\":x,\"Y\":y})\n",
        "df"
      ],
      "metadata": {
        "colab": {
          "base_uri": "https://localhost:8080/",
          "height": 423
        },
        "id": "2sAJdb8h3eCk",
        "outputId": "bdb6b10d-abfe-4147-d5f9-7c3921bc0aab"
      },
      "execution_count": null,
      "outputs": [
        {
          "output_type": "execute_result",
          "data": {
            "text/plain": [
              "            X         Y\n",
              "0   -0.330617  0.109308\n",
              "1   -0.581390  0.338014\n",
              "2   -0.193522  0.037451\n",
              "3   -0.713506  0.509091\n",
              "4   -0.753947  0.568435\n",
              "..        ...       ...\n",
              "195 -0.201905  0.040766\n",
              "196  0.244827  0.059940\n",
              "197  0.390888  0.152793\n",
              "198 -0.940989  0.885460\n",
              "199 -0.492873  0.242924\n",
              "\n",
              "[200 rows x 2 columns]"
            ],
            "text/html": [
              "\n",
              "  <div id=\"df-2a046dbe-2c74-4deb-9cc9-ac56b0620f39\">\n",
              "    <div class=\"colab-df-container\">\n",
              "      <div>\n",
              "<style scoped>\n",
              "    .dataframe tbody tr th:only-of-type {\n",
              "        vertical-align: middle;\n",
              "    }\n",
              "\n",
              "    .dataframe tbody tr th {\n",
              "        vertical-align: top;\n",
              "    }\n",
              "\n",
              "    .dataframe thead th {\n",
              "        text-align: right;\n",
              "    }\n",
              "</style>\n",
              "<table border=\"1\" class=\"dataframe\">\n",
              "  <thead>\n",
              "    <tr style=\"text-align: right;\">\n",
              "      <th></th>\n",
              "      <th>X</th>\n",
              "      <th>Y</th>\n",
              "    </tr>\n",
              "  </thead>\n",
              "  <tbody>\n",
              "    <tr>\n",
              "      <th>0</th>\n",
              "      <td>-0.330617</td>\n",
              "      <td>0.109308</td>\n",
              "    </tr>\n",
              "    <tr>\n",
              "      <th>1</th>\n",
              "      <td>-0.581390</td>\n",
              "      <td>0.338014</td>\n",
              "    </tr>\n",
              "    <tr>\n",
              "      <th>2</th>\n",
              "      <td>-0.193522</td>\n",
              "      <td>0.037451</td>\n",
              "    </tr>\n",
              "    <tr>\n",
              "      <th>3</th>\n",
              "      <td>-0.713506</td>\n",
              "      <td>0.509091</td>\n",
              "    </tr>\n",
              "    <tr>\n",
              "      <th>4</th>\n",
              "      <td>-0.753947</td>\n",
              "      <td>0.568435</td>\n",
              "    </tr>\n",
              "    <tr>\n",
              "      <th>...</th>\n",
              "      <td>...</td>\n",
              "      <td>...</td>\n",
              "    </tr>\n",
              "    <tr>\n",
              "      <th>195</th>\n",
              "      <td>-0.201905</td>\n",
              "      <td>0.040766</td>\n",
              "    </tr>\n",
              "    <tr>\n",
              "      <th>196</th>\n",
              "      <td>0.244827</td>\n",
              "      <td>0.059940</td>\n",
              "    </tr>\n",
              "    <tr>\n",
              "      <th>197</th>\n",
              "      <td>0.390888</td>\n",
              "      <td>0.152793</td>\n",
              "    </tr>\n",
              "    <tr>\n",
              "      <th>198</th>\n",
              "      <td>-0.940989</td>\n",
              "      <td>0.885460</td>\n",
              "    </tr>\n",
              "    <tr>\n",
              "      <th>199</th>\n",
              "      <td>-0.492873</td>\n",
              "      <td>0.242924</td>\n",
              "    </tr>\n",
              "  </tbody>\n",
              "</table>\n",
              "<p>200 rows × 2 columns</p>\n",
              "</div>\n",
              "      <button class=\"colab-df-convert\" onclick=\"convertToInteractive('df-2a046dbe-2c74-4deb-9cc9-ac56b0620f39')\"\n",
              "              title=\"Convert this dataframe to an interactive table.\"\n",
              "              style=\"display:none;\">\n",
              "        \n",
              "  <svg xmlns=\"http://www.w3.org/2000/svg\" height=\"24px\"viewBox=\"0 0 24 24\"\n",
              "       width=\"24px\">\n",
              "    <path d=\"M0 0h24v24H0V0z\" fill=\"none\"/>\n",
              "    <path d=\"M18.56 5.44l.94 2.06.94-2.06 2.06-.94-2.06-.94-.94-2.06-.94 2.06-2.06.94zm-11 1L8.5 8.5l.94-2.06 2.06-.94-2.06-.94L8.5 2.5l-.94 2.06-2.06.94zm10 10l.94 2.06.94-2.06 2.06-.94-2.06-.94-.94-2.06-.94 2.06-2.06.94z\"/><path d=\"M17.41 7.96l-1.37-1.37c-.4-.4-.92-.59-1.43-.59-.52 0-1.04.2-1.43.59L10.3 9.45l-7.72 7.72c-.78.78-.78 2.05 0 2.83L4 21.41c.39.39.9.59 1.41.59.51 0 1.02-.2 1.41-.59l7.78-7.78 2.81-2.81c.8-.78.8-2.07 0-2.86zM5.41 20L4 18.59l7.72-7.72 1.47 1.35L5.41 20z\"/>\n",
              "  </svg>\n",
              "      </button>\n",
              "      \n",
              "  <style>\n",
              "    .colab-df-container {\n",
              "      display:flex;\n",
              "      flex-wrap:wrap;\n",
              "      gap: 12px;\n",
              "    }\n",
              "\n",
              "    .colab-df-convert {\n",
              "      background-color: #E8F0FE;\n",
              "      border: none;\n",
              "      border-radius: 50%;\n",
              "      cursor: pointer;\n",
              "      display: none;\n",
              "      fill: #1967D2;\n",
              "      height: 32px;\n",
              "      padding: 0 0 0 0;\n",
              "      width: 32px;\n",
              "    }\n",
              "\n",
              "    .colab-df-convert:hover {\n",
              "      background-color: #E2EBFA;\n",
              "      box-shadow: 0px 1px 2px rgba(60, 64, 67, 0.3), 0px 1px 3px 1px rgba(60, 64, 67, 0.15);\n",
              "      fill: #174EA6;\n",
              "    }\n",
              "\n",
              "    [theme=dark] .colab-df-convert {\n",
              "      background-color: #3B4455;\n",
              "      fill: #D2E3FC;\n",
              "    }\n",
              "\n",
              "    [theme=dark] .colab-df-convert:hover {\n",
              "      background-color: #434B5C;\n",
              "      box-shadow: 0px 1px 3px 1px rgba(0, 0, 0, 0.15);\n",
              "      filter: drop-shadow(0px 1px 2px rgba(0, 0, 0, 0.3));\n",
              "      fill: #FFFFFF;\n",
              "    }\n",
              "  </style>\n",
              "\n",
              "      <script>\n",
              "        const buttonEl =\n",
              "          document.querySelector('#df-2a046dbe-2c74-4deb-9cc9-ac56b0620f39 button.colab-df-convert');\n",
              "        buttonEl.style.display =\n",
              "          google.colab.kernel.accessAllowed ? 'block' : 'none';\n",
              "\n",
              "        async function convertToInteractive(key) {\n",
              "          const element = document.querySelector('#df-2a046dbe-2c74-4deb-9cc9-ac56b0620f39');\n",
              "          const dataTable =\n",
              "            await google.colab.kernel.invokeFunction('convertToInteractive',\n",
              "                                                     [key], {});\n",
              "          if (!dataTable) return;\n",
              "\n",
              "          const docLinkHtml = 'Like what you see? Visit the ' +\n",
              "            '<a target=\"_blank\" href=https://colab.research.google.com/notebooks/data_table.ipynb>data table notebook</a>'\n",
              "            + ' to learn more about interactive tables.';\n",
              "          element.innerHTML = '';\n",
              "          dataTable['output_type'] = 'display_data';\n",
              "          await google.colab.output.renderOutput(dataTable, element);\n",
              "          const docLink = document.createElement('div');\n",
              "          docLink.innerHTML = docLinkHtml;\n",
              "          element.appendChild(docLink);\n",
              "        }\n",
              "      </script>\n",
              "    </div>\n",
              "  </div>\n",
              "  "
            ]
          },
          "metadata": {},
          "execution_count": 9
        }
      ]
    },
    {
      "cell_type": "code",
      "source": [
        "df [\"rank_x\"] = df[\"X\"].rank()\n",
        "df.head()\n",
        "\n",
        "df [\"rank_y\"] = df[\"Y\"].rank()\n",
        "df.head()\n",
        "\n"
      ],
      "metadata": {
        "colab": {
          "base_uri": "https://localhost:8080/",
          "height": 206
        },
        "id": "y7cN-GBI4HOO",
        "outputId": "d5d356c3-b143-42ca-da48-7d44112bb1d2"
      },
      "execution_count": null,
      "outputs": [
        {
          "output_type": "execute_result",
          "data": {
            "text/plain": [
              "          X         Y  rank_x  rank_y\n",
              "0 -0.330617  0.109308    62.0    69.0\n",
              "1 -0.581390  0.338014    42.0   116.0\n",
              "2 -0.193522  0.037451    76.0    41.0\n",
              "3 -0.713506  0.509091    31.0   137.0\n",
              "4 -0.753947  0.568435    24.0   147.0"
            ],
            "text/html": [
              "\n",
              "  <div id=\"df-fcadf7f7-08be-41e6-90ac-874e42984b3e\">\n",
              "    <div class=\"colab-df-container\">\n",
              "      <div>\n",
              "<style scoped>\n",
              "    .dataframe tbody tr th:only-of-type {\n",
              "        vertical-align: middle;\n",
              "    }\n",
              "\n",
              "    .dataframe tbody tr th {\n",
              "        vertical-align: top;\n",
              "    }\n",
              "\n",
              "    .dataframe thead th {\n",
              "        text-align: right;\n",
              "    }\n",
              "</style>\n",
              "<table border=\"1\" class=\"dataframe\">\n",
              "  <thead>\n",
              "    <tr style=\"text-align: right;\">\n",
              "      <th></th>\n",
              "      <th>X</th>\n",
              "      <th>Y</th>\n",
              "      <th>rank_x</th>\n",
              "      <th>rank_y</th>\n",
              "    </tr>\n",
              "  </thead>\n",
              "  <tbody>\n",
              "    <tr>\n",
              "      <th>0</th>\n",
              "      <td>-0.330617</td>\n",
              "      <td>0.109308</td>\n",
              "      <td>62.0</td>\n",
              "      <td>69.0</td>\n",
              "    </tr>\n",
              "    <tr>\n",
              "      <th>1</th>\n",
              "      <td>-0.581390</td>\n",
              "      <td>0.338014</td>\n",
              "      <td>42.0</td>\n",
              "      <td>116.0</td>\n",
              "    </tr>\n",
              "    <tr>\n",
              "      <th>2</th>\n",
              "      <td>-0.193522</td>\n",
              "      <td>0.037451</td>\n",
              "      <td>76.0</td>\n",
              "      <td>41.0</td>\n",
              "    </tr>\n",
              "    <tr>\n",
              "      <th>3</th>\n",
              "      <td>-0.713506</td>\n",
              "      <td>0.509091</td>\n",
              "      <td>31.0</td>\n",
              "      <td>137.0</td>\n",
              "    </tr>\n",
              "    <tr>\n",
              "      <th>4</th>\n",
              "      <td>-0.753947</td>\n",
              "      <td>0.568435</td>\n",
              "      <td>24.0</td>\n",
              "      <td>147.0</td>\n",
              "    </tr>\n",
              "  </tbody>\n",
              "</table>\n",
              "</div>\n",
              "      <button class=\"colab-df-convert\" onclick=\"convertToInteractive('df-fcadf7f7-08be-41e6-90ac-874e42984b3e')\"\n",
              "              title=\"Convert this dataframe to an interactive table.\"\n",
              "              style=\"display:none;\">\n",
              "        \n",
              "  <svg xmlns=\"http://www.w3.org/2000/svg\" height=\"24px\"viewBox=\"0 0 24 24\"\n",
              "       width=\"24px\">\n",
              "    <path d=\"M0 0h24v24H0V0z\" fill=\"none\"/>\n",
              "    <path d=\"M18.56 5.44l.94 2.06.94-2.06 2.06-.94-2.06-.94-.94-2.06-.94 2.06-2.06.94zm-11 1L8.5 8.5l.94-2.06 2.06-.94-2.06-.94L8.5 2.5l-.94 2.06-2.06.94zm10 10l.94 2.06.94-2.06 2.06-.94-2.06-.94-.94-2.06-.94 2.06-2.06.94z\"/><path d=\"M17.41 7.96l-1.37-1.37c-.4-.4-.92-.59-1.43-.59-.52 0-1.04.2-1.43.59L10.3 9.45l-7.72 7.72c-.78.78-.78 2.05 0 2.83L4 21.41c.39.39.9.59 1.41.59.51 0 1.02-.2 1.41-.59l7.78-7.78 2.81-2.81c.8-.78.8-2.07 0-2.86zM5.41 20L4 18.59l7.72-7.72 1.47 1.35L5.41 20z\"/>\n",
              "  </svg>\n",
              "      </button>\n",
              "      \n",
              "  <style>\n",
              "    .colab-df-container {\n",
              "      display:flex;\n",
              "      flex-wrap:wrap;\n",
              "      gap: 12px;\n",
              "    }\n",
              "\n",
              "    .colab-df-convert {\n",
              "      background-color: #E8F0FE;\n",
              "      border: none;\n",
              "      border-radius: 50%;\n",
              "      cursor: pointer;\n",
              "      display: none;\n",
              "      fill: #1967D2;\n",
              "      height: 32px;\n",
              "      padding: 0 0 0 0;\n",
              "      width: 32px;\n",
              "    }\n",
              "\n",
              "    .colab-df-convert:hover {\n",
              "      background-color: #E2EBFA;\n",
              "      box-shadow: 0px 1px 2px rgba(60, 64, 67, 0.3), 0px 1px 3px 1px rgba(60, 64, 67, 0.15);\n",
              "      fill: #174EA6;\n",
              "    }\n",
              "\n",
              "    [theme=dark] .colab-df-convert {\n",
              "      background-color: #3B4455;\n",
              "      fill: #D2E3FC;\n",
              "    }\n",
              "\n",
              "    [theme=dark] .colab-df-convert:hover {\n",
              "      background-color: #434B5C;\n",
              "      box-shadow: 0px 1px 3px 1px rgba(0, 0, 0, 0.15);\n",
              "      filter: drop-shadow(0px 1px 2px rgba(0, 0, 0, 0.3));\n",
              "      fill: #FFFFFF;\n",
              "    }\n",
              "  </style>\n",
              "\n",
              "      <script>\n",
              "        const buttonEl =\n",
              "          document.querySelector('#df-fcadf7f7-08be-41e6-90ac-874e42984b3e button.colab-df-convert');\n",
              "        buttonEl.style.display =\n",
              "          google.colab.kernel.accessAllowed ? 'block' : 'none';\n",
              "\n",
              "        async function convertToInteractive(key) {\n",
              "          const element = document.querySelector('#df-fcadf7f7-08be-41e6-90ac-874e42984b3e');\n",
              "          const dataTable =\n",
              "            await google.colab.kernel.invokeFunction('convertToInteractive',\n",
              "                                                     [key], {});\n",
              "          if (!dataTable) return;\n",
              "\n",
              "          const docLinkHtml = 'Like what you see? Visit the ' +\n",
              "            '<a target=\"_blank\" href=https://colab.research.google.com/notebooks/data_table.ipynb>data table notebook</a>'\n",
              "            + ' to learn more about interactive tables.';\n",
              "          element.innerHTML = '';\n",
              "          dataTable['output_type'] = 'display_data';\n",
              "          await google.colab.output.renderOutput(dataTable, element);\n",
              "          const docLink = document.createElement('div');\n",
              "          docLink.innerHTML = docLinkHtml;\n",
              "          element.appendChild(docLink);\n",
              "        }\n",
              "      </script>\n",
              "    </div>\n",
              "  </div>\n",
              "  "
            ]
          },
          "metadata": {},
          "execution_count": 11
        }
      ]
    },
    {
      "cell_type": "code",
      "source": [
        "lists = [\"mahesh\",\"vamsi\",\"akhilesh\",\"murali\"]\n",
        "print(lists)\n",
        "\n",
        "df = pd.DataFrame(lists)\n",
        "print(df)\n"
      ],
      "metadata": {
        "id": "NY-lIxVE4E64",
        "colab": {
          "base_uri": "https://localhost:8080/"
        },
        "outputId": "52c972fc-c255-47bf-e541-b01e898aa89d"
      },
      "execution_count": null,
      "outputs": [
        {
          "output_type": "stream",
          "name": "stdout",
          "text": [
            "['mahesh', 'vamsi', 'akhilesh', 'murali']\n",
            "          0\n",
            "0    mahesh\n",
            "1     vamsi\n",
            "2  akhilesh\n",
            "3    murali\n"
          ]
        }
      ]
    }
  ]
}