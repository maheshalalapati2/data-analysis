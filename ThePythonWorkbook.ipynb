{
  "nbformat": 4,
  "nbformat_minor": 0,
  "metadata": {
    "colab": {
      "name": "ThePythonWorkbook.ipynb",
      "provenance": [],
      "authorship_tag": "ABX9TyPXqe75emxVlN+LmtFY879x",
      "include_colab_link": true
    },
    "kernelspec": {
      "name": "python3",
      "display_name": "Python 3"
    },
    "language_info": {
      "name": "python"
    }
  },
  "cells": [
    {
      "cell_type": "markdown",
      "metadata": {
        "id": "view-in-github",
        "colab_type": "text"
      },
      "source": [
        "<a href=\"https://colab.research.google.com/github/maheshalalapati2/python-data-analysis/blob/master/ThePythonWorkbook.ipynb\" target=\"_parent\"><img src=\"https://colab.research.google.com/assets/colab-badge.svg\" alt=\"Open In Colab\"/></a>"
      ]
    },
    {
      "cell_type": "markdown",
      "source": [
        "Exercise 1: Mailing Address\n",
        "\n",
        "Create a program that displays your name and complete mailing address formatted in\n",
        "the manner that you would usually see it on the outside of an envelope. Your program\n",
        "does not need to read any input from the user"
      ],
      "metadata": {
        "id": "_13Y2_QjxRX0"
      }
    },
    {
      "cell_type": "code",
      "source": [
        "print(\"Mahesh Alapati\")\n",
        "print(\"Developer, Data Analytics at Compass Health Brands \")\n",
        "print(\"7xxx Lucerne Dr\")\n",
        "print(\"Cleveland, Ohio\")"
      ],
      "metadata": {
        "colab": {
          "base_uri": "https://localhost:8080/"
        },
        "id": "cZ6PB_mCxYBn",
        "outputId": "105f7186-3726-4950-ccab-11852239412d"
      },
      "execution_count": null,
      "outputs": [
        {
          "output_type": "stream",
          "name": "stdout",
          "text": [
            "Mahesh Alapati\n",
            "Developer, Data Analytics at Compass Health Brands \n",
            "7xxx Lucerne Dr\n",
            "Cleveland, Ohio\n"
          ]
        }
      ]
    },
    {
      "cell_type": "markdown",
      "source": [
        "Exercise 2: Hello\n",
        "\n",
        "Write a program that asks the user to enter his or her name. The program should\n",
        "respond with a message that says hello to the user, using his or her name."
      ],
      "metadata": {
        "id": "cXCgVnnxzrNG"
      }
    },
    {
      "cell_type": "code",
      "source": [
        "input_name = str(input(\"Enter your name, please  \"))\n",
        "print(\"Hello, \" + input_name)"
      ],
      "metadata": {
        "colab": {
          "base_uri": "https://localhost:8080/"
        },
        "id": "cuJlvUSwzv2-",
        "outputId": "32eca3c8-363b-4494-a11e-40ac8e6f8216"
      },
      "execution_count": null,
      "outputs": [
        {
          "output_type": "stream",
          "name": "stdout",
          "text": [
            "Enter your name, please  Mahesh Alapati\n",
            "Hello, Mahesh Alapati\n"
          ]
        }
      ]
    },
    {
      "cell_type": "markdown",
      "source": [
        "Exercise 3: Area of a Room\n",
        "\n",
        "\n",
        "Write a program that asks the user to enter the width and length of a room. Once\n",
        "the values have been read, your program should compute and display the area of the\n",
        "room. The length and the width will be entered as floating point numbers. Include\n",
        "units in your prompt and output message; either feet or meters, depending on which\n",
        "unit you are more comfortable working with."
      ],
      "metadata": {
        "id": "d2Ygi3ai1Il4"
      }
    },
    {
      "cell_type": "code",
      "source": [
        "length = float(input(\"enter the length of the room: \"))\n",
        "width = float(input(\"enter the width of the room: \"))\n",
        "print(\"Area of the room:\", length*width,  \"square feet\"  )\n"
      ],
      "metadata": {
        "colab": {
          "base_uri": "https://localhost:8080/"
        },
        "id": "4naBExEb1Meu",
        "outputId": "4c9ebed7-ae66-42f1-d5df-98a67554abdc"
      },
      "execution_count": null,
      "outputs": [
        {
          "output_type": "stream",
          "name": "stdout",
          "text": [
            "enter the length of the room: 10\n",
            "enter the width of the room: 20\n",
            "Area of the room: 200.0 square feet\n"
          ]
        }
      ]
    },
    {
      "cell_type": "markdown",
      "source": [
        "Exercise 4:  Area of a Field\n",
        "\n",
        "\n",
        "Create a program that reads the length and width of a farmer’s field from the user in\n",
        "feet. Display the area of the field in acres."
      ],
      "metadata": {
        "id": "rC9MeqRk6LBu"
      }
    },
    {
      "cell_type": "code",
      "source": [
        "length = float(input(\"enter the length of the room: \"))\n",
        "width = float(input(\"enter the width of the room: \"))\n",
        "\n",
        "sqft_per_acre = 43560\n",
        "\n",
        "print(\"The area of the field in acres:\", (length*width)/sqft_per_acre  )\n",
        "\n"
      ],
      "metadata": {
        "colab": {
          "base_uri": "https://localhost:8080/"
        },
        "id": "mnThRD_i6fHi",
        "outputId": "22f0b2fa-17f9-40b0-d439-80401512809e"
      },
      "execution_count": null,
      "outputs": [
        {
          "output_type": "stream",
          "name": "stdout",
          "text": [
            "enter the length of the room: 400\n",
            "enter the width of the room: 2000\n",
            "The area of the field in acres: 18.365472910927455\n"
          ]
        }
      ]
    }
  ]
}